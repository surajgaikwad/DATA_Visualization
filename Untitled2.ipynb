{
 "cells": [
  {
   "cell_type": "code",
   "execution_count": 1,
   "id": "02c01672",
   "metadata": {},
   "outputs": [
    {
     "data": {
      "text/plain": [
       "False"
      ]
     },
     "execution_count": 1,
     "metadata": {},
     "output_type": "execute_result"
    }
   ],
   "source": [
    "min(max(False, -3,-4),2,7)"
   ]
  },
  {
   "cell_type": "code",
   "execution_count": 4,
   "id": "a469ed03",
   "metadata": {},
   "outputs": [
    {
     "ename": "SyntaxError",
     "evalue": "invalid syntax (1053259092.py, line 4)",
     "output_type": "error",
     "traceback": [
      "\u001b[1;36m  Cell \u001b[1;32mIn [4], line 4\u001b[1;36m\u001b[0m\n\u001b[1;33m    else:\u001b[0m\n\u001b[1;37m    ^\u001b[0m\n\u001b[1;31mSyntaxError\u001b[0m\u001b[1;31m:\u001b[0m invalid syntax\n"
     ]
    }
   ],
   "source": [
    "def fun(a,b):\n",
    "    if a==0:\n",
    "        raise ValueError (\"A must be nonzero\")\n",
    "        else:\n",
    "            return a/b\n",
    "try:\n",
    "    result=fun(2,0)\n",
    "    print(result)\n",
    "except ValueError as e:\n",
    "    print(e)"
   ]
  },
  {
   "cell_type": "code",
   "execution_count": 5,
   "id": "4c36ed05",
   "metadata": {},
   "outputs": [
    {
     "name": "stdout",
     "output_type": "stream",
     "text": [
      "15\n",
      "67\n",
      "67\n",
      "90\n"
     ]
    }
   ],
   "source": [
    "array = [15, 67, 34, 90]\n",
    "for array[-2] in array:\n",
    "    print(array[-2])"
   ]
  },
  {
   "cell_type": "code",
   "execution_count": 8,
   "id": "540be367",
   "metadata": {},
   "outputs": [
    {
     "name": "stdout",
     "output_type": "stream",
     "text": [
      "[1, 3, 5, 7, 8]\n"
     ]
    }
   ],
   "source": [
    "list1 = [1,2,3,4]\n",
    "list2 = [2,4,5,6]\n",
    "list3 = [2,6,7,8]\n",
    "\n",
    "result = list()\n",
    "result.extend(i for i in list1 if i not in (list2+list3) and i not in result)\n",
    "result.extend(i for i in list2 if i not in (list1+list3) and i not in result)\n",
    "result.extend(i for i in list3 if i not in (list1+list2) and i not in result)\n",
    "\n",
    "print(result)"
   ]
  },
  {
   "cell_type": "code",
   "execution_count": null,
   "id": "c1904586",
   "metadata": {},
   "outputs": [],
   "source": [
    "A = [[300,300,300], [400,400,400], [500,500,500]]"
   ]
  }
 ],
 "metadata": {
  "kernelspec": {
   "display_name": "Python 3 (ipykernel)",
   "language": "python",
   "name": "python3"
  },
  "language_info": {
   "codemirror_mode": {
    "name": "ipython",
    "version": 3
   },
   "file_extension": ".py",
   "mimetype": "text/x-python",
   "name": "python",
   "nbconvert_exporter": "python",
   "pygments_lexer": "ipython3",
   "version": "3.10.0"
  }
 },
 "nbformat": 4,
 "nbformat_minor": 5
}
