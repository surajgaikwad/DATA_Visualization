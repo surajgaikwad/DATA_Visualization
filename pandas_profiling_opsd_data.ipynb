{
 "cells": [
  {
   "cell_type": "code",
   "execution_count": 2,
   "id": "f214d633",
   "metadata": {},
   "outputs": [
    {
     "name": "stdout",
     "output_type": "stream",
     "text": [
      "            Date  Consumption     Wind   Solar  Wind+Solar\n",
      "0     2006-01-01   1069.18400      NaN     NaN         NaN\n",
      "1     2006-01-02   1380.52100      NaN     NaN         NaN\n",
      "2     2006-01-03   1442.53300      NaN     NaN         NaN\n",
      "3     2006-01-04   1457.21700      NaN     NaN         NaN\n",
      "4     2006-01-05   1477.13100      NaN     NaN         NaN\n",
      "...          ...          ...      ...     ...         ...\n",
      "4378  2017-12-27   1263.94091  394.507  16.530     411.037\n",
      "4379  2017-12-28   1299.86398  506.424  14.162     520.586\n",
      "4380  2017-12-29   1295.08753  584.277  29.854     614.131\n",
      "4381  2017-12-30   1215.44897  721.247   7.467     728.714\n",
      "4382  2017-12-31   1107.11488  721.176  19.980     741.156\n",
      "\n",
      "[4383 rows x 5 columns]\n"
     ]
    }
   ],
   "source": [
    "# pip install pandas\n",
    "# pip install pandas-profiling\n",
    "\n",
    "import pandas as pd\n",
    "from pandas_profiling import ProfileReport\n",
    "df = pd.read_csv('opsd_germany_daily.csv')\n",
    "print(df)"
   ]
  },
  {
   "cell_type": "code",
   "execution_count": 3,
   "id": "c5cdc0d2",
   "metadata": {},
   "outputs": [
    {
     "data": {
      "application/vnd.jupyter.widget-view+json": {
       "model_id": "cd1acf5e505b4210b730456ce3c4eb8a",
       "version_major": 2,
       "version_minor": 0
      },
      "text/plain": [
       "Summarize dataset:   0%|          | 0/5 [00:00<?, ?it/s]"
      ]
     },
     "metadata": {},
     "output_type": "display_data"
    },
    {
     "name": "stderr",
     "output_type": "stream",
     "text": [
      "C:\\Users\\Expert\\AppData\\Local\\Programs\\Python\\Python310\\lib\\site-packages\\multimethod\\__init__.py:315: FutureWarning: In a future version, `df.iloc[:, i] = newvals` will attempt to set the values inplace instead of always setting a new array. To retain the old behavior, use either `df[df.columns[i]] = newvals` or, if columns are non-unique, `df.isetitem(i, newvals)`\n",
      "  return func(*args, **kwargs)\n",
      "C:\\Users\\Expert\\AppData\\Local\\Programs\\Python\\Python310\\lib\\site-packages\\multimethod\\__init__.py:315: FutureWarning: The default value of numeric_only in DataFrame.corr is deprecated. In a future version, it will default to False. Select only valid columns or specify the value of numeric_only to silence this warning.\n",
      "  return func(*args, **kwargs)\n"
     ]
    },
    {
     "data": {
      "application/vnd.jupyter.widget-view+json": {
       "model_id": "1b7cfba455dd4e4994e1b50556cf2e33",
       "version_major": 2,
       "version_minor": 0
      },
      "text/plain": [
       "Generate report structure:   0%|          | 0/1 [00:00<?, ?it/s]"
      ]
     },
     "metadata": {},
     "output_type": "display_data"
    },
    {
     "data": {
      "application/vnd.jupyter.widget-view+json": {
       "model_id": "2634927fbe104b1dbd35710fcb360fb7",
       "version_major": 2,
       "version_minor": 0
      },
      "text/plain": [
       "Render HTML:   0%|          | 0/1 [00:00<?, ?it/s]"
      ]
     },
     "metadata": {},
     "output_type": "display_data"
    },
    {
     "data": {
      "application/vnd.jupyter.widget-view+json": {
       "model_id": "10f2cd895db8407d8c2dce0d7806c763",
       "version_major": 2,
       "version_minor": 0
      },
      "text/plain": [
       "Export report to file:   0%|          | 0/1 [00:00<?, ?it/s]"
      ]
     },
     "metadata": {},
     "output_type": "display_data"
    }
   ],
   "source": [
    "# generating report \n",
    "profile = ProfileReport(df)\n",
    "profile.to_file(output_file=\"opsd_data_report.html\")"
   ]
  },
  {
   "cell_type": "code",
   "execution_count": null,
   "id": "5ecd2804",
   "metadata": {},
   "outputs": [],
   "source": [
    "  "
   ]
  }
 ],
 "metadata": {
  "kernelspec": {
   "display_name": "Python 3 (ipykernel)",
   "language": "python",
   "name": "python3"
  },
  "language_info": {
   "codemirror_mode": {
    "name": "ipython",
    "version": 3
   },
   "file_extension": ".py",
   "mimetype": "text/x-python",
   "name": "python",
   "nbconvert_exporter": "python",
   "pygments_lexer": "ipython3",
   "version": "3.10.0"
  }
 },
 "nbformat": 4,
 "nbformat_minor": 5
}
