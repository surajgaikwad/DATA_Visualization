{
 "cells": [
  {
   "cell_type": "code",
   "execution_count": 2,
   "id": "bb9d0063",
   "metadata": {},
   "outputs": [
    {
     "name": "stdout",
     "output_type": "stream",
     "text": [
      "       StoreNumber      ItemCode           TxnTime SaleFlag  Quantity  \\\n",
      "0              108  8.410580e+10  09-05-2013 00:27        N         1   \n",
      "1              108  8.947000e+10  09-05-2013 00:27        N         1   \n",
      "2              108  2.840016e+09  09-05-2013 00:27        Y         2   \n",
      "3              108  2.840016e+09  09-05-2013 00:27        Y         2   \n",
      "4              108  4.127102e+09  09-05-2013 00:27        N         1   \n",
      "...            ...           ...               ...      ...       ...   \n",
      "21892          233  6.337120e+10  09-05-2013 23:52        N         1   \n",
      "21893          233  6.166761e+10  09-05-2013 23:54        Y         1   \n",
      "21894          233  7.084700e+09  09-05-2013 23:54        Y         1   \n",
      "21895          233  1.708200e+09  09-05-2013 23:54        N         1   \n",
      "21896          233  7.148102e+09  09-05-2013 23:55        N         1   \n",
      "\n",
      "       Ignore1  Amount  Ignore3  Ignore4  Ignore5 Ignore6 Ignore7  SegmentCode  \n",
      "0          0.0   11.79   840200   896262    11.79       N       N         1002  \n",
      "1          0.0    1.29   840200   832102     1.29       N       N          778  \n",
      "2          0.0    7.00   840200   893943     8.58       Y       N         1071  \n",
      "3          0.0    6.00   840200   893952     6.98       Y       N         1053  \n",
      "4          0.0    3.69   840200   894107     3.69       N       N         3541  \n",
      "...        ...     ...      ...      ...      ...     ...     ...          ...  \n",
      "21892      0.0    7.99    80060   844339     7.99       N       N         2410  \n",
      "21893      0.0    2.50    80061    20311     2.99       Y       N         3248  \n",
      "21894      0.0    1.75    80061   591019     2.49       Y       N         1296  \n",
      "21895      0.0    1.99    80061    53401     1.99       N       N         1076  \n",
      "21896      0.0    3.79    80062    15076     3.79       N       N          734  \n",
      "\n",
      "[21897 rows x 13 columns]\n"
     ]
    },
    {
     "data": {
      "application/vnd.jupyter.widget-view+json": {
       "model_id": "3e43316997c444fa8bbf5d04e02331ad",
       "version_major": 2,
       "version_minor": 0
      },
      "text/plain": [
       "Summarize dataset:   0%|          | 0/5 [00:00<?, ?it/s]"
      ]
     },
     "metadata": {},
     "output_type": "display_data"
    },
    {
     "name": "stderr",
     "output_type": "stream",
     "text": [
      "C:\\Users\\Expert\\AppData\\Local\\Programs\\Python\\Python310\\lib\\site-packages\\multimethod\\__init__.py:315: FutureWarning: In a future version, `df.iloc[:, i] = newvals` will attempt to set the values inplace instead of always setting a new array. To retain the old behavior, use either `df[df.columns[i]] = newvals` or, if columns are non-unique, `df.isetitem(i, newvals)`\n",
      "  return func(*args, **kwargs)\n",
      "C:\\Users\\Expert\\AppData\\Local\\Programs\\Python\\Python310\\lib\\site-packages\\multimethod\\__init__.py:315: FutureWarning: The default value of numeric_only in DataFrame.corr is deprecated. In a future version, it will default to False. Select only valid columns or specify the value of numeric_only to silence this warning.\n",
      "  return func(*args, **kwargs)\n"
     ]
    },
    {
     "data": {
      "application/vnd.jupyter.widget-view+json": {
       "model_id": "5069a94f8e954e38b1ea4c09cec3a86b",
       "version_major": 2,
       "version_minor": 0
      },
      "text/plain": [
       "Generate report structure:   0%|          | 0/1 [00:00<?, ?it/s]"
      ]
     },
     "metadata": {},
     "output_type": "display_data"
    },
    {
     "data": {
      "application/vnd.jupyter.widget-view+json": {
       "model_id": "9b2a3008abbe460bb30d012eb0561e5c",
       "version_major": 2,
       "version_minor": 0
      },
      "text/plain": [
       "Render HTML:   0%|          | 0/1 [00:00<?, ?it/s]"
      ]
     },
     "metadata": {},
     "output_type": "display_data"
    },
    {
     "data": {
      "application/vnd.jupyter.widget-view+json": {
       "model_id": "1e9a4fd8e45a422896aa37cee79969ae",
       "version_major": 2,
       "version_minor": 0
      },
      "text/plain": [
       "Export report to file:   0%|          | 0/1 [00:00<?, ?it/s]"
      ]
     },
     "metadata": {},
     "output_type": "display_data"
    }
   ],
   "source": [
    "import pandas as pd\n",
    "from pandas_profiling import ProfileReport\n",
    "df=pd.read_csv(\"SalesData.csv\")\n",
    "print(df)\n",
    "\n",
    "profile = ProfileReport(df)\n",
    "profile.to_file(output_file= \"SalesData.html\")"
   ]
  },
  {
   "cell_type": "code",
   "execution_count": 3,
   "id": "364e5ec0",
   "metadata": {},
   "outputs": [
    {
     "data": {
      "text/plain": [
       "(21897, 13)"
      ]
     },
     "execution_count": 3,
     "metadata": {},
     "output_type": "execute_result"
    }
   ],
   "source": [
    "df.shape"
   ]
  },
  {
   "cell_type": "code",
   "execution_count": 4,
   "id": "68373af0",
   "metadata": {},
   "outputs": [
    {
     "name": "stdout",
     "output_type": "stream",
     "text": [
      "<bound method DataFrame.info of        StoreNumber      ItemCode           TxnTime SaleFlag  Quantity  \\\n",
      "0              108  8.410580e+10  09-05-2013 00:27        N         1   \n",
      "1              108  8.947000e+10  09-05-2013 00:27        N         1   \n",
      "2              108  2.840016e+09  09-05-2013 00:27        Y         2   \n",
      "3              108  2.840016e+09  09-05-2013 00:27        Y         2   \n",
      "4              108  4.127102e+09  09-05-2013 00:27        N         1   \n",
      "...            ...           ...               ...      ...       ...   \n",
      "21892          233  6.337120e+10  09-05-2013 23:52        N         1   \n",
      "21893          233  6.166761e+10  09-05-2013 23:54        Y         1   \n",
      "21894          233  7.084700e+09  09-05-2013 23:54        Y         1   \n",
      "21895          233  1.708200e+09  09-05-2013 23:54        N         1   \n",
      "21896          233  7.148102e+09  09-05-2013 23:55        N         1   \n",
      "\n",
      "       Ignore1  Amount  Ignore3  Ignore4  Ignore5 Ignore6 Ignore7  SegmentCode  \n",
      "0          0.0   11.79   840200   896262    11.79       N       N         1002  \n",
      "1          0.0    1.29   840200   832102     1.29       N       N          778  \n",
      "2          0.0    7.00   840200   893943     8.58       Y       N         1071  \n",
      "3          0.0    6.00   840200   893952     6.98       Y       N         1053  \n",
      "4          0.0    3.69   840200   894107     3.69       N       N         3541  \n",
      "...        ...     ...      ...      ...      ...     ...     ...          ...  \n",
      "21892      0.0    7.99    80060   844339     7.99       N       N         2410  \n",
      "21893      0.0    2.50    80061    20311     2.99       Y       N         3248  \n",
      "21894      0.0    1.75    80061   591019     2.49       Y       N         1296  \n",
      "21895      0.0    1.99    80061    53401     1.99       N       N         1076  \n",
      "21896      0.0    3.79    80062    15076     3.79       N       N          734  \n",
      "\n",
      "[21897 rows x 13 columns]>\n"
     ]
    }
   ],
   "source": [
    "print(df.info)"
   ]
  },
  {
   "cell_type": "code",
   "execution_count": 15,
   "id": "a5434c40",
   "metadata": {},
   "outputs": [
    {
     "name": "stdout",
     "output_type": "stream",
     "text": [
      "6605\n",
      "16389.469999999998\n"
     ]
    }
   ],
   "source": [
    "print(df.loc[(df['StoreNumber'] == 233), 'Quantity'].sum())\n",
    "print(df.loc[(df['StoreNumber'] == 233), 'Amount'].sum())"
   ]
  },
  {
   "cell_type": "code",
   "execution_count": 16,
   "id": "1fe809e9",
   "metadata": {},
   "outputs": [
    {
     "name": "stdout",
     "output_type": "stream",
     "text": [
      "13733\n",
      "32153.460000000003\n"
     ]
    }
   ],
   "source": [
    "print(df.loc[(df['StoreNumber'] == 108) & (df['SaleFlag']=='Y'), 'Quantity'].sum())\n",
    "print(df.loc[(df['StoreNumber'] == 108) & (df['SaleFlag']=='Y'), 'Amount'].sum())"
   ]
  },
  {
   "cell_type": "code",
   "execution_count": 25,
   "id": "2e0ce697",
   "metadata": {},
   "outputs": [
    {
     "name": "stdout",
     "output_type": "stream",
     "text": [
      "19909\n",
      "2350\n"
     ]
    }
   ],
   "source": [
    "i = df['Amount'].idxmax()\n",
    "print(i)\n",
    "print(df['SegmentCode'][i])"
   ]
  },
  {
   "cell_type": "code",
   "execution_count": 27,
   "id": "1e801714",
   "metadata": {},
   "outputs": [
    {
     "name": "stdout",
     "output_type": "stream",
     "text": [
      "3.2578412567931685\n"
     ]
    }
   ],
   "source": [
    "print(df['Amount'].mean())"
   ]
  },
  {
   "cell_type": "code",
   "execution_count": 28,
   "id": "944a2ab0",
   "metadata": {},
   "outputs": [
    {
     "data": {
      "text/html": [
       "<div>\n",
       "<style scoped>\n",
       "    .dataframe tbody tr th:only-of-type {\n",
       "        vertical-align: middle;\n",
       "    }\n",
       "\n",
       "    .dataframe tbody tr th {\n",
       "        vertical-align: top;\n",
       "    }\n",
       "\n",
       "    .dataframe thead th {\n",
       "        text-align: right;\n",
       "    }\n",
       "</style>\n",
       "<table border=\"1\" class=\"dataframe\">\n",
       "  <thead>\n",
       "    <tr style=\"text-align: right;\">\n",
       "      <th></th>\n",
       "      <th>StoreNumber</th>\n",
       "      <th>ItemCode</th>\n",
       "      <th>Quantity</th>\n",
       "      <th>Ignore1</th>\n",
       "      <th>Amount</th>\n",
       "      <th>Ignore3</th>\n",
       "      <th>Ignore4</th>\n",
       "      <th>Ignore5</th>\n",
       "      <th>SegmentCode</th>\n",
       "    </tr>\n",
       "  </thead>\n",
       "  <tbody>\n",
       "    <tr>\n",
       "      <th>count</th>\n",
       "      <td>21897.000000</td>\n",
       "      <td>2.189700e+04</td>\n",
       "      <td>21897.000000</td>\n",
       "      <td>21897.000000</td>\n",
       "      <td>21897.000000</td>\n",
       "      <td>21897.000000</td>\n",
       "      <td>21897.000000</td>\n",
       "      <td>21897.000000</td>\n",
       "      <td>21897.000000</td>\n",
       "    </tr>\n",
       "    <tr>\n",
       "      <th>mean</th>\n",
       "      <td>137.838562</td>\n",
       "      <td>9.232106e+09</td>\n",
       "      <td>1.242088</td>\n",
       "      <td>0.016239</td>\n",
       "      <td>3.257841</td>\n",
       "      <td>243943.900763</td>\n",
       "      <td>229083.001416</td>\n",
       "      <td>4.050467</td>\n",
       "      <td>1553.535507</td>\n",
       "    </tr>\n",
       "    <tr>\n",
       "      <th>std</th>\n",
       "      <td>53.287993</td>\n",
       "      <td>1.970174e+10</td>\n",
       "      <td>0.825408</td>\n",
       "      <td>0.167181</td>\n",
       "      <td>3.287245</td>\n",
       "      <td>316861.964508</td>\n",
       "      <td>343459.554650</td>\n",
       "      <td>4.052376</td>\n",
       "      <td>1246.287897</td>\n",
       "    </tr>\n",
       "    <tr>\n",
       "      <th>min</th>\n",
       "      <td>108.000000</td>\n",
       "      <td>8.300000e+01</td>\n",
       "      <td>-2.000000</td>\n",
       "      <td>0.000000</td>\n",
       "      <td>-49.990000</td>\n",
       "      <td>20003.000000</td>\n",
       "      <td>3933.000000</td>\n",
       "      <td>-49.990000</td>\n",
       "      <td>3.000000</td>\n",
       "    </tr>\n",
       "    <tr>\n",
       "      <th>25%</th>\n",
       "      <td>108.000000</td>\n",
       "      <td>3.040077e+09</td>\n",
       "      <td>1.000000</td>\n",
       "      <td>0.000000</td>\n",
       "      <td>1.790000</td>\n",
       "      <td>40054.000000</td>\n",
       "      <td>18222.000000</td>\n",
       "      <td>2.270000</td>\n",
       "      <td>562.000000</td>\n",
       "    </tr>\n",
       "    <tr>\n",
       "      <th>50%</th>\n",
       "      <td>108.000000</td>\n",
       "      <td>5.150000e+09</td>\n",
       "      <td>1.000000</td>\n",
       "      <td>0.000000</td>\n",
       "      <td>2.640000</td>\n",
       "      <td>130039.000000</td>\n",
       "      <td>34329.000000</td>\n",
       "      <td>3.290000</td>\n",
       "      <td>919.000000</td>\n",
       "    </tr>\n",
       "    <tr>\n",
       "      <th>75%</th>\n",
       "      <td>108.000000</td>\n",
       "      <td>7.078446e+09</td>\n",
       "      <td>1.000000</td>\n",
       "      <td>0.000000</td>\n",
       "      <td>3.990000</td>\n",
       "      <td>160033.000000</td>\n",
       "      <td>415483.000000</td>\n",
       "      <td>4.490000</td>\n",
       "      <td>2798.000000</td>\n",
       "    </tr>\n",
       "    <tr>\n",
       "      <th>max</th>\n",
       "      <td>233.000000</td>\n",
       "      <td>9.782900e+11</td>\n",
       "      <td>21.000000</td>\n",
       "      <td>6.951000</td>\n",
       "      <td>174.990000</td>\n",
       "      <td>870123.000000</td>\n",
       "      <td>924909.000000</td>\n",
       "      <td>349.990000</td>\n",
       "      <td>4495.000000</td>\n",
       "    </tr>\n",
       "  </tbody>\n",
       "</table>\n",
       "</div>"
      ],
      "text/plain": [
       "        StoreNumber      ItemCode      Quantity       Ignore1        Amount  \\\n",
       "count  21897.000000  2.189700e+04  21897.000000  21897.000000  21897.000000   \n",
       "mean     137.838562  9.232106e+09      1.242088      0.016239      3.257841   \n",
       "std       53.287993  1.970174e+10      0.825408      0.167181      3.287245   \n",
       "min      108.000000  8.300000e+01     -2.000000      0.000000    -49.990000   \n",
       "25%      108.000000  3.040077e+09      1.000000      0.000000      1.790000   \n",
       "50%      108.000000  5.150000e+09      1.000000      0.000000      2.640000   \n",
       "75%      108.000000  7.078446e+09      1.000000      0.000000      3.990000   \n",
       "max      233.000000  9.782900e+11     21.000000      6.951000    174.990000   \n",
       "\n",
       "             Ignore3        Ignore4       Ignore5   SegmentCode  \n",
       "count   21897.000000   21897.000000  21897.000000  21897.000000  \n",
       "mean   243943.900763  229083.001416      4.050467   1553.535507  \n",
       "std    316861.964508  343459.554650      4.052376   1246.287897  \n",
       "min     20003.000000    3933.000000    -49.990000      3.000000  \n",
       "25%     40054.000000   18222.000000      2.270000    562.000000  \n",
       "50%    130039.000000   34329.000000      3.290000    919.000000  \n",
       "75%    160033.000000  415483.000000      4.490000   2798.000000  \n",
       "max    870123.000000  924909.000000    349.990000   4495.000000  "
      ]
     },
     "execution_count": 28,
     "metadata": {},
     "output_type": "execute_result"
    }
   ],
   "source": [
    "df.describe()"
   ]
  },
  {
   "cell_type": "code",
   "execution_count": 29,
   "id": "c43f15e8",
   "metadata": {},
   "outputs": [
    {
     "data": {
      "text/plain": [
       "108    16670\n",
       "233     5227\n",
       "Name: StoreNumber, dtype: int64"
      ]
     },
     "execution_count": 29,
     "metadata": {},
     "output_type": "execute_result"
    }
   ],
   "source": [
    "df[\"StoreNumber\"].value_counts()"
   ]
  },
  {
   "cell_type": "code",
   "execution_count": null,
   "id": "5a29a164",
   "metadata": {},
   "outputs": [],
   "source": []
  }
 ],
 "metadata": {
  "kernelspec": {
   "display_name": "Python 3 (ipykernel)",
   "language": "python",
   "name": "python3"
  },
  "language_info": {
   "codemirror_mode": {
    "name": "ipython",
    "version": 3
   },
   "file_extension": ".py",
   "mimetype": "text/x-python",
   "name": "python",
   "nbconvert_exporter": "python",
   "pygments_lexer": "ipython3",
   "version": "3.10.0"
  }
 },
 "nbformat": 4,
 "nbformat_minor": 5
}
